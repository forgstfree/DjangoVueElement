{
 "cells": [
  {
   "cell_type": "code",
   "execution_count": 3,
   "metadata": {},
   "outputs": [],
   "source": [
    "import subprocess\n",
    "import sys\n",
    "import chardet"
   ]
  },
  {
   "cell_type": "code",
   "execution_count": 19,
   "metadata": {},
   "outputs": [],
   "source": [
    "class ExecJar(object):\n",
    "    def run(self,source_path,num,target_path):\n",
    "        command = \"java -jar ./DataMigrationAndAnalysis.jar\"\n",
    "        cmd = [command, source_path, num, target_path]\n",
    "        new_cmd = \" \".join(cmd)\n",
    "        print(new_cmd)\n",
    "        return subprocess.run(new_cmd,shell=True)\n",
    "#         subprocess.Popen(new_cmd, shell=True)"
   ]
  },
  {
   "cell_type": "code",
   "execution_count": 20,
   "metadata": {},
   "outputs": [],
   "source": [
    "exex_jar = ExecJar()"
   ]
  },
  {
   "cell_type": "code",
   "execution_count": 25,
   "metadata": {},
   "outputs": [
    {
     "name": "stdout",
     "output_type": "stream",
     "text": [
      "java -jar ./DataMigrationAndAnalysis.jar ./ubuntu.log -1 ./-1ubuntu.log.json\n"
     ]
    }
   ],
   "source": [
    "a = exex_jar.run(\"./ubuntu.log\", \"-1\", \"./-1ubuntu.log.json\")"
   ]
  },
  {
   "cell_type": "code",
   "execution_count": 26,
   "metadata": {},
   "outputs": [
    {
     "name": "stdout",
     "output_type": "stream",
     "text": [
      "CompletedProcess(args='java -jar ./DataMigrationAndAnalysis.jar ./ubuntu.log -1 ./-1ubuntu.log.json', returncode=0)\n"
     ]
    }
   ],
   "source": [
    "print(a)"
   ]
  },
  {
   "cell_type": "code",
   "execution_count": 27,
   "metadata": {},
   "outputs": [
    {
     "data": {
      "text/plain": [
       "0"
      ]
     },
     "execution_count": 27,
     "metadata": {},
     "output_type": "execute_result"
    }
   ],
   "source": [
    "a.returncode"
   ]
  },
  {
   "cell_type": "code",
   "execution_count": null,
   "metadata": {},
   "outputs": [],
   "source": []
  }
 ],
 "metadata": {
  "kernelspec": {
   "display_name": "Python 3",
   "language": "python",
   "name": "python3"
  }
 },
 "nbformat": 4,
 "nbformat_minor": 2
}
